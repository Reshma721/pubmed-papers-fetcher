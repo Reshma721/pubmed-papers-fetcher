{
  "nbformat": 4,
  "nbformat_minor": 0,
  "metadata": {
    "colab": {
      "provenance": [],
      "authorship_tag": "ABX9TyOhS0FL7jbrEqWfzCR8nvfQ",
      "include_colab_link": true
    },
    "kernelspec": {
      "name": "python3",
      "display_name": "Python 3"
    },
    "language_info": {
      "name": "python"
    }
  },
  "cells": [
    {
      "cell_type": "markdown",
      "metadata": {
        "id": "view-in-github",
        "colab_type": "text"
      },
      "source": [
        "<a href=\"https://colab.research.google.com/github/Reshma721/pubmed-papers-fetcher/blob/main/papers.ipynb\" target=\"_parent\"><img src=\"https://colab.research.google.com/assets/colab-badge.svg\" alt=\"Open In Colab\"/></a>"
      ]
    },
    {
      "cell_type": "code",
      "execution_count": 6,
      "metadata": {
        "colab": {
          "base_uri": "https://localhost:8080/"
        },
        "id": "qJA5GnmyHhXl",
        "outputId": "9f36c98e-d271-4020-f6de-9c97aad54a70"
      },
      "outputs": [
        {
          "output_type": "stream",
          "name": "stdout",
          "text": [
            "Requirement already satisfied: biopython in /usr/local/lib/python3.11/dist-packages (1.85)\n",
            "Requirement already satisfied: pandas in /usr/local/lib/python3.11/dist-packages (2.2.2)\n",
            "Requirement already satisfied: rich in /usr/local/lib/python3.11/dist-packages (13.9.4)\n",
            "Requirement already satisfied: numpy in /usr/local/lib/python3.11/dist-packages (from biopython) (2.0.2)\n",
            "Requirement already satisfied: python-dateutil>=2.8.2 in /usr/local/lib/python3.11/dist-packages (from pandas) (2.8.2)\n",
            "Requirement already satisfied: pytz>=2020.1 in /usr/local/lib/python3.11/dist-packages (from pandas) (2025.2)\n",
            "Requirement already satisfied: tzdata>=2022.7 in /usr/local/lib/python3.11/dist-packages (from pandas) (2025.2)\n",
            "Requirement already satisfied: markdown-it-py>=2.2.0 in /usr/local/lib/python3.11/dist-packages (from rich) (3.0.0)\n",
            "Requirement already satisfied: pygments<3.0.0,>=2.13.0 in /usr/local/lib/python3.11/dist-packages (from rich) (2.18.0)\n",
            "Requirement already satisfied: mdurl~=0.1 in /usr/local/lib/python3.11/dist-packages (from markdown-it-py>=2.2.0->rich) (0.1.2)\n",
            "Requirement already satisfied: six>=1.5 in /usr/local/lib/python3.11/dist-packages (from python-dateutil>=2.8.2->pandas) (1.17.0)\n"
          ]
        }
      ],
      "source": [
        "!pip install biopython pandas rich\n"
      ]
    },
    {
      "cell_type": "code",
      "source": [
        "from Bio import Entrez\n",
        "import pandas as pd\n",
        "import time\n",
        "from typing import List, Dict\n",
        "import logging\n"
      ],
      "metadata": {
        "id": "VEkGbeKJHmSf"
      },
      "execution_count": 7,
      "outputs": []
    },
    {
      "cell_type": "code",
      "source": [
        "# Install dependencies\n",
        "!pip install biopython pandas rich\n",
        "\n",
        "# Import necessary libraries\n",
        "from Bio import Entrez\n",
        "import pandas as pd\n",
        "import time\n",
        "from typing import List, Dict\n",
        "import logging\n",
        "\n",
        "\n",
        "# Set your email for PubMed API access\n",
        "Entrez.email = \"reshmauppar329@gmail.com\"\n",
        "\n",
        "# ✅ Logging configuration\n",
        "def setup_logger(debug: bool = False):\n",
        "    \"\"\"Set up logging configuration.\"\"\"\n",
        "    logger = logging.getLogger(\"PubMed Logger\")\n",
        "    logger.setLevel(logging.DEBUG if debug else logging.INFO)\n",
        "\n",
        "    console_handler = logging.StreamHandler()\n",
        "    console_handler.setLevel(logging.DEBUG if debug else logging.INFO)\n",
        "\n",
        "    formatter = logging.Formatter('%(asctime)s - %(levelname)s - %(message)s')\n",
        "    console_handler.setFormatter(formatter)\n",
        "\n",
        "    logger.addHandler(console_handler)\n",
        "    return logger\n",
        "\n",
        "\n",
        "# ✅ Fetch papers safely\n",
        "def fetch_papers(query: str, logger: logging.Logger, max_results: int = 50) -> List[Dict]:\n",
        "    \"\"\"Fetch research papers from PubMed using the query.\"\"\"\n",
        "    logger.info(f\"Fetching papers for query: {query}\")\n",
        "\n",
        "    try:\n",
        "        handle = Entrez.esearch(db=\"pubmed\", term=query, retmax=max_results)\n",
        "        record = Entrez.read(handle)\n",
        "        ids = record.get(\"IdList\", [])\n",
        "\n",
        "        if not ids:\n",
        "            logger.warning(\"No papers found.\")\n",
        "            return []\n",
        "\n",
        "        papers = []\n",
        "\n",
        "        for pubmed_id in ids:\n",
        "            handle = Entrez.efetch(db=\"pubmed\", id=pubmed_id, retmode=\"xml\")\n",
        "            record = Entrez.read(handle)\n",
        "\n",
        "            for article in record.get(\"PubmedArticle\", []):\n",
        "                article_data = article.get(\"MedlineCitation\", {}).get(\"Article\", {})\n",
        "\n",
        "                # Safely access nested fields with .get() to avoid KeyError or IndexError\n",
        "                authors = article_data.get(\"AuthorList\", [])\n",
        "\n",
        "                companies = [\n",
        "                    a.get(\"AffiliationInfo\", [{}])[0].get(\"Affiliation\", \"None\")\n",
        "                    for a in authors\n",
        "                    if \"pharma\" in a.get(\"AffiliationInfo\", [{}])[0].get(\"Affiliation\", \"\").lower()\n",
        "                ]\n",
        "\n",
        "                papers.append({\n",
        "                    \"PubmedID\": pubmed_id,\n",
        "                    \"Title\": article_data.get(\"ArticleTitle\", \"N/A\"),\n",
        "                    \"PublicationDate\": article_data.get(\"ArticleDate\", [{}])[0].get(\"Year\", \"N/A\"),\n",
        "                    \"Authors\": [f\"{a.get('LastName', '')} {a.get('ForeName', '')}\" for a in authors],\n",
        "                    \"CompanyAffiliations\": \", \".join(companies) if companies else \"None\"\n",
        "                })\n",
        "\n",
        "            time.sleep(1)  # To avoid API rate limits\n",
        "\n",
        "        logger.info(f\"Fetched {len(papers)} papers.\")\n",
        "        return papers\n",
        "\n",
        "    except Exception as e:\n",
        "        logger.error(f\"API Error: {e}\")\n",
        "        return []\n",
        "\n",
        "\n",
        "# ✅ Filter non-academic papers\n",
        "def filter_non_academic_papers(papers: List[Dict], logger: logging.Logger) -> List[Dict]:\n",
        "    \"\"\"Filter papers with pharmaceutical/biotech affiliations.\"\"\"\n",
        "    filtered = [paper for paper in papers if paper[\"CompanyAffiliations\"] != \"None\"]\n",
        "    logger.info(f\"Filtered {len(filtered)} papers with company affiliations.\")\n",
        "    return filtered\n",
        "\n",
        "\n",
        "# ✅ Save results as CSV (creates an empty CSV if no papers are found)\n",
        "def save_as_csv(papers: List[Dict], filename: str, logger: logging.Logger):\n",
        "    \"\"\"Save papers to a CSV file.\"\"\"\n",
        "    if papers:\n",
        "        df = pd.DataFrame(papers)\n",
        "    else:\n",
        "        # Create an empty CSV with headers if no papers are found\n",
        "        df = pd.DataFrame(columns=[\"PubmedID\", \"Title\", \"PublicationDate\", \"Authors\", \"CompanyAffiliations\"])\n",
        "\n",
        "    df.to_csv(filename, index=False)\n",
        "    logger.info(f\"Results saved to {filename}\")\n",
        "\n",
        "\n",
        "# ✅ Main Execution\n",
        "def main():\n",
        "    query = input(\"Enter the PubMed query: \")\n",
        "    output_file = \"research_papers.csv\"\n",
        "\n",
        "    logger = setup_logger(debug=True)\n",
        "\n",
        "    logger.info(f\"Searching PubMed for: {query}\")\n",
        "\n",
        "    # Fetch and filter papers\n",
        "    papers = fetch_papers(query, logger)\n",
        "    filtered_papers = filter_non_academic_papers(papers, logger)\n",
        "\n",
        "    # Save to CSV (creates an empty file if no results are found)\n",
        "    save_as_csv(filtered_papers, output_file, logger)\n",
        "\n",
        "    print(f\"Results saved to: {output_file}\")\n",
        "\n",
        "\n",
        "# ✅ Run the program\n",
        "main()\n"
      ],
      "metadata": {
        "colab": {
          "base_uri": "https://localhost:8080/"
        },
        "id": "Mfvt5OluHsGQ",
        "outputId": "29435eab-9000-4930-86ce-a8e69cec0144"
      },
      "execution_count": 10,
      "outputs": [
        {
          "name": "stdout",
          "output_type": "stream",
          "text": [
            "Requirement already satisfied: biopython in /usr/local/lib/python3.11/dist-packages (1.85)\n",
            "Requirement already satisfied: pandas in /usr/local/lib/python3.11/dist-packages (2.2.2)\n",
            "Requirement already satisfied: rich in /usr/local/lib/python3.11/dist-packages (13.9.4)\n",
            "Requirement already satisfied: numpy in /usr/local/lib/python3.11/dist-packages (from biopython) (2.0.2)\n",
            "Requirement already satisfied: python-dateutil>=2.8.2 in /usr/local/lib/python3.11/dist-packages (from pandas) (2.8.2)\n",
            "Requirement already satisfied: pytz>=2020.1 in /usr/local/lib/python3.11/dist-packages (from pandas) (2025.2)\n",
            "Requirement already satisfied: tzdata>=2022.7 in /usr/local/lib/python3.11/dist-packages (from pandas) (2025.2)\n",
            "Requirement already satisfied: markdown-it-py>=2.2.0 in /usr/local/lib/python3.11/dist-packages (from rich) (3.0.0)\n",
            "Requirement already satisfied: pygments<3.0.0,>=2.13.0 in /usr/local/lib/python3.11/dist-packages (from rich) (2.18.0)\n",
            "Requirement already satisfied: mdurl~=0.1 in /usr/local/lib/python3.11/dist-packages (from markdown-it-py>=2.2.0->rich) (0.1.2)\n",
            "Requirement already satisfied: six>=1.5 in /usr/local/lib/python3.11/dist-packages (from python-dateutil>=2.8.2->pandas) (1.17.0)\n",
            "Enter the PubMed query: cancer AND therapy\n"
          ]
        },
        {
          "output_type": "stream",
          "name": "stderr",
          "text": [
            "2025-03-31 17:02:28,320 - INFO - Searching PubMed for: cancer AND therapy\n",
            "2025-03-31 17:02:28,320 - INFO - Searching PubMed for: cancer AND therapy\n",
            "2025-03-31 17:02:28,320 - INFO - Searching PubMed for: cancer AND therapy\n",
            "2025-03-31 17:02:28,320 - INFO - Searching PubMed for: cancer AND therapy\n",
            "INFO:PubMed Logger:Searching PubMed for: cancer AND therapy\n",
            "2025-03-31 17:02:28,324 - INFO - Fetching papers for query: cancer AND therapy\n",
            "2025-03-31 17:02:28,324 - INFO - Fetching papers for query: cancer AND therapy\n",
            "2025-03-31 17:02:28,324 - INFO - Fetching papers for query: cancer AND therapy\n",
            "2025-03-31 17:02:28,324 - INFO - Fetching papers for query: cancer AND therapy\n",
            "INFO:PubMed Logger:Fetching papers for query: cancer AND therapy\n",
            "2025-03-31 17:03:12,006 - ERROR - API Error: list index out of range\n",
            "2025-03-31 17:03:12,006 - ERROR - API Error: list index out of range\n",
            "2025-03-31 17:03:12,006 - ERROR - API Error: list index out of range\n",
            "2025-03-31 17:03:12,006 - ERROR - API Error: list index out of range\n",
            "ERROR:PubMed Logger:API Error: list index out of range\n",
            "2025-03-31 17:03:12,011 - INFO - Filtered 0 papers with company affiliations.\n",
            "2025-03-31 17:03:12,011 - INFO - Filtered 0 papers with company affiliations.\n",
            "2025-03-31 17:03:12,011 - INFO - Filtered 0 papers with company affiliations.\n",
            "2025-03-31 17:03:12,011 - INFO - Filtered 0 papers with company affiliations.\n",
            "INFO:PubMed Logger:Filtered 0 papers with company affiliations.\n",
            "2025-03-31 17:03:12,032 - INFO - Results saved to research_papers.csv\n",
            "2025-03-31 17:03:12,032 - INFO - Results saved to research_papers.csv\n",
            "2025-03-31 17:03:12,032 - INFO - Results saved to research_papers.csv\n",
            "2025-03-31 17:03:12,032 - INFO - Results saved to research_papers.csv\n",
            "INFO:PubMed Logger:Results saved to research_papers.csv\n"
          ]
        },
        {
          "output_type": "stream",
          "name": "stdout",
          "text": [
            "Results saved to: research_papers.csv\n"
          ]
        }
      ]
    },
    {
      "cell_type": "code",
      "source": [
        "from google.colab import files\n",
        "files.download(\"research_papers.csv\")\n"
      ],
      "metadata": {
        "colab": {
          "base_uri": "https://localhost:8080/",
          "height": 17
        },
        "id": "UfvNMbXeHwd1",
        "outputId": "765cd793-9d10-43d8-a05b-5e4a163dd12f"
      },
      "execution_count": 11,
      "outputs": [
        {
          "output_type": "display_data",
          "data": {
            "text/plain": [
              "<IPython.core.display.Javascript object>"
            ],
            "application/javascript": [
              "\n",
              "    async function download(id, filename, size) {\n",
              "      if (!google.colab.kernel.accessAllowed) {\n",
              "        return;\n",
              "      }\n",
              "      const div = document.createElement('div');\n",
              "      const label = document.createElement('label');\n",
              "      label.textContent = `Downloading \"${filename}\": `;\n",
              "      div.appendChild(label);\n",
              "      const progress = document.createElement('progress');\n",
              "      progress.max = size;\n",
              "      div.appendChild(progress);\n",
              "      document.body.appendChild(div);\n",
              "\n",
              "      const buffers = [];\n",
              "      let downloaded = 0;\n",
              "\n",
              "      const channel = await google.colab.kernel.comms.open(id);\n",
              "      // Send a message to notify the kernel that we're ready.\n",
              "      channel.send({})\n",
              "\n",
              "      for await (const message of channel.messages) {\n",
              "        // Send a message to notify the kernel that we're ready.\n",
              "        channel.send({})\n",
              "        if (message.buffers) {\n",
              "          for (const buffer of message.buffers) {\n",
              "            buffers.push(buffer);\n",
              "            downloaded += buffer.byteLength;\n",
              "            progress.value = downloaded;\n",
              "          }\n",
              "        }\n",
              "      }\n",
              "      const blob = new Blob(buffers, {type: 'application/binary'});\n",
              "      const a = document.createElement('a');\n",
              "      a.href = window.URL.createObjectURL(blob);\n",
              "      a.download = filename;\n",
              "      div.appendChild(a);\n",
              "      a.click();\n",
              "      div.remove();\n",
              "    }\n",
              "  "
            ]
          },
          "metadata": {}
        },
        {
          "output_type": "display_data",
          "data": {
            "text/plain": [
              "<IPython.core.display.Javascript object>"
            ],
            "application/javascript": [
              "download(\"download_8eddcf5f-7b2a-421a-9cbc-8715e728b329\", \"research_papers.csv\", 59)"
            ]
          },
          "metadata": {}
        }
      ]
    },
    {
      "cell_type": "code",
      "source": [
        "# Clone your repository\n",
        "!git clone https://github.com/Reshma721/pubmed-papers-fetcher.git\n",
        "\n",
        "# Move into the cloned directory\n",
        "%cd pubmed-papers-fetcher\n"
      ],
      "metadata": {
        "colab": {
          "base_uri": "https://localhost:8080/"
        },
        "id": "OgWqutdYIt0s",
        "outputId": "b3e7cccc-b39b-469b-bb7c-d1aa1946f069"
      },
      "execution_count": 14,
      "outputs": [
        {
          "output_type": "stream",
          "name": "stdout",
          "text": [
            "Cloning into 'pubmed-papers-fetcher'...\n",
            "remote: Enumerating objects: 3, done.\u001b[K\n",
            "remote: Counting objects:  33% (1/3)\u001b[K\rremote: Counting objects:  66% (2/3)\u001b[K\rremote: Counting objects: 100% (3/3)\u001b[K\rremote: Counting objects: 100% (3/3), done.\u001b[K\n",
            "remote: Compressing objects:  50% (1/2)\u001b[K\rremote: Compressing objects: 100% (2/2)\u001b[K\rremote: Compressing objects: 100% (2/2), done.\u001b[K\n",
            "remote: Total 3 (delta 0), reused 0 (delta 0), pack-reused 0 (from 0)\u001b[K\n",
            "Receiving objects:  33% (1/3)\rReceiving objects:  66% (2/3)\rReceiving objects: 100% (3/3)\rReceiving objects: 100% (3/3), done.\n",
            "/content/pubmed-papers-fetcher/pubmed-papers-fetcher\n"
          ]
        }
      ]
    },
    {
      "cell_type": "code",
      "source": [
        "%pwd\n"
      ],
      "metadata": {
        "colab": {
          "base_uri": "https://localhost:8080/",
          "height": 35
        },
        "id": "qLEE3BG0LUBG",
        "outputId": "6d3048ee-7336-474b-a6a5-45b061879fcf"
      },
      "execution_count": 15,
      "outputs": [
        {
          "output_type": "execute_result",
          "data": {
            "text/plain": [
              "'/content/pubmed-papers-fetcher/pubmed-papers-fetcher'"
            ],
            "application/vnd.google.colaboratory.intrinsic+json": {
              "type": "string"
            }
          },
          "metadata": {},
          "execution_count": 15
        }
      ]
    },
    {
      "cell_type": "code",
      "source": [
        "!git status\n"
      ],
      "metadata": {
        "colab": {
          "base_uri": "https://localhost:8080/"
        },
        "id": "3tHzRAMzNKMx",
        "outputId": "f7b9ebc5-f671-41fa-be7d-d862f0f339ba"
      },
      "execution_count": 16,
      "outputs": [
        {
          "output_type": "stream",
          "name": "stdout",
          "text": [
            "On branch main\n",
            "Your branch is up to date with 'origin/main'.\n",
            "\n",
            "nothing to commit, working tree clean\n"
          ]
        }
      ]
    },
    {
      "cell_type": "code",
      "source": [
        "!mv /path/to/your/code.py /content/pubmed-papers-fetcher/pubmed-papers-fetcher/\n",
        "\n",
        "\n"
      ],
      "metadata": {
        "colab": {
          "base_uri": "https://localhost:8080/"
        },
        "id": "Qc9ExsyCNSPO",
        "outputId": "ce7c4186-994c-486d-ea87-744b2231b198"
      },
      "execution_count": 19,
      "outputs": [
        {
          "output_type": "stream",
          "name": "stdout",
          "text": [
            "mv: cannot stat '/path/to/your/code.py': No such file or directory\n"
          ]
        }
      ]
    },
    {
      "cell_type": "code",
      "source": [
        "!mv /content/papers.ipynb /content/pubmed-papers-fetcher/pubmed-papers-fetcher/\n"
      ],
      "metadata": {
        "colab": {
          "base_uri": "https://localhost:8080/"
        },
        "id": "Ocm7hGwBN5po",
        "outputId": "f7cfe49a-6739-42a1-8a05-0695629cc7b0"
      },
      "execution_count": 23,
      "outputs": [
        {
          "output_type": "stream",
          "name": "stdout",
          "text": [
            "mv: cannot stat '/content/papers.ipynb': No such file or directory\n"
          ]
        }
      ]
    },
    {
      "cell_type": "code",
      "source": [
        "!mv /content/papers.py /content/pubmed-papers-fetcher/pubmed-papers-fetcher/\n"
      ],
      "metadata": {
        "colab": {
          "base_uri": "https://localhost:8080/"
        },
        "id": "_L1mrBYtOtZG",
        "outputId": "d7cb8bad-e12e-41bb-dc50-ff943f1ef2cc"
      },
      "execution_count": 22,
      "outputs": [
        {
          "output_type": "stream",
          "name": "stdout",
          "text": [
            "mv: cannot stat '/content/papers.py': No such file or directory\n"
          ]
        }
      ]
    },
    {
      "cell_type": "code",
      "source": [
        "from google.colab import files\n",
        "uploaded = files.upload()\n"
      ],
      "metadata": {
        "colab": {
          "base_uri": "https://localhost:8080/",
          "height": 38
        },
        "id": "b9sUkEd4POvc",
        "outputId": "7741320b-5b40-4750-91cb-5a47f908ffeb"
      },
      "execution_count": null,
      "outputs": [
        {
          "output_type": "display_data",
          "data": {
            "text/plain": [
              "<IPython.core.display.HTML object>"
            ],
            "text/html": [
              "\n",
              "     <input type=\"file\" id=\"files-a43656d0-3d8a-475f-b0c9-9f0d7afb7dec\" name=\"files[]\" multiple disabled\n",
              "        style=\"border:none\" />\n",
              "     <output id=\"result-a43656d0-3d8a-475f-b0c9-9f0d7afb7dec\">\n",
              "      Upload widget is only available when the cell has been executed in the\n",
              "      current browser session. Please rerun this cell to enable.\n",
              "      </output>\n",
              "      <script>// Copyright 2017 Google LLC\n",
              "//\n",
              "// Licensed under the Apache License, Version 2.0 (the \"License\");\n",
              "// you may not use this file except in compliance with the License.\n",
              "// You may obtain a copy of the License at\n",
              "//\n",
              "//      http://www.apache.org/licenses/LICENSE-2.0\n",
              "//\n",
              "// Unless required by applicable law or agreed to in writing, software\n",
              "// distributed under the License is distributed on an \"AS IS\" BASIS,\n",
              "// WITHOUT WARRANTIES OR CONDITIONS OF ANY KIND, either express or implied.\n",
              "// See the License for the specific language governing permissions and\n",
              "// limitations under the License.\n",
              "\n",
              "/**\n",
              " * @fileoverview Helpers for google.colab Python module.\n",
              " */\n",
              "(function(scope) {\n",
              "function span(text, styleAttributes = {}) {\n",
              "  const element = document.createElement('span');\n",
              "  element.textContent = text;\n",
              "  for (const key of Object.keys(styleAttributes)) {\n",
              "    element.style[key] = styleAttributes[key];\n",
              "  }\n",
              "  return element;\n",
              "}\n",
              "\n",
              "// Max number of bytes which will be uploaded at a time.\n",
              "const MAX_PAYLOAD_SIZE = 100 * 1024;\n",
              "\n",
              "function _uploadFiles(inputId, outputId) {\n",
              "  const steps = uploadFilesStep(inputId, outputId);\n",
              "  const outputElement = document.getElementById(outputId);\n",
              "  // Cache steps on the outputElement to make it available for the next call\n",
              "  // to uploadFilesContinue from Python.\n",
              "  outputElement.steps = steps;\n",
              "\n",
              "  return _uploadFilesContinue(outputId);\n",
              "}\n",
              "\n",
              "// This is roughly an async generator (not supported in the browser yet),\n",
              "// where there are multiple asynchronous steps and the Python side is going\n",
              "// to poll for completion of each step.\n",
              "// This uses a Promise to block the python side on completion of each step,\n",
              "// then passes the result of the previous step as the input to the next step.\n",
              "function _uploadFilesContinue(outputId) {\n",
              "  const outputElement = document.getElementById(outputId);\n",
              "  const steps = outputElement.steps;\n",
              "\n",
              "  const next = steps.next(outputElement.lastPromiseValue);\n",
              "  return Promise.resolve(next.value.promise).then((value) => {\n",
              "    // Cache the last promise value to make it available to the next\n",
              "    // step of the generator.\n",
              "    outputElement.lastPromiseValue = value;\n",
              "    return next.value.response;\n",
              "  });\n",
              "}\n",
              "\n",
              "/**\n",
              " * Generator function which is called between each async step of the upload\n",
              " * process.\n",
              " * @param {string} inputId Element ID of the input file picker element.\n",
              " * @param {string} outputId Element ID of the output display.\n",
              " * @return {!Iterable<!Object>} Iterable of next steps.\n",
              " */\n",
              "function* uploadFilesStep(inputId, outputId) {\n",
              "  const inputElement = document.getElementById(inputId);\n",
              "  inputElement.disabled = false;\n",
              "\n",
              "  const outputElement = document.getElementById(outputId);\n",
              "  outputElement.innerHTML = '';\n",
              "\n",
              "  const pickedPromise = new Promise((resolve) => {\n",
              "    inputElement.addEventListener('change', (e) => {\n",
              "      resolve(e.target.files);\n",
              "    });\n",
              "  });\n",
              "\n",
              "  const cancel = document.createElement('button');\n",
              "  inputElement.parentElement.appendChild(cancel);\n",
              "  cancel.textContent = 'Cancel upload';\n",
              "  const cancelPromise = new Promise((resolve) => {\n",
              "    cancel.onclick = () => {\n",
              "      resolve(null);\n",
              "    };\n",
              "  });\n",
              "\n",
              "  // Wait for the user to pick the files.\n",
              "  const files = yield {\n",
              "    promise: Promise.race([pickedPromise, cancelPromise]),\n",
              "    response: {\n",
              "      action: 'starting',\n",
              "    }\n",
              "  };\n",
              "\n",
              "  cancel.remove();\n",
              "\n",
              "  // Disable the input element since further picks are not allowed.\n",
              "  inputElement.disabled = true;\n",
              "\n",
              "  if (!files) {\n",
              "    return {\n",
              "      response: {\n",
              "        action: 'complete',\n",
              "      }\n",
              "    };\n",
              "  }\n",
              "\n",
              "  for (const file of files) {\n",
              "    const li = document.createElement('li');\n",
              "    li.append(span(file.name, {fontWeight: 'bold'}));\n",
              "    li.append(span(\n",
              "        `(${file.type || 'n/a'}) - ${file.size} bytes, ` +\n",
              "        `last modified: ${\n",
              "            file.lastModifiedDate ? file.lastModifiedDate.toLocaleDateString() :\n",
              "                                    'n/a'} - `));\n",
              "    const percent = span('0% done');\n",
              "    li.appendChild(percent);\n",
              "\n",
              "    outputElement.appendChild(li);\n",
              "\n",
              "    const fileDataPromise = new Promise((resolve) => {\n",
              "      const reader = new FileReader();\n",
              "      reader.onload = (e) => {\n",
              "        resolve(e.target.result);\n",
              "      };\n",
              "      reader.readAsArrayBuffer(file);\n",
              "    });\n",
              "    // Wait for the data to be ready.\n",
              "    let fileData = yield {\n",
              "      promise: fileDataPromise,\n",
              "      response: {\n",
              "        action: 'continue',\n",
              "      }\n",
              "    };\n",
              "\n",
              "    // Use a chunked sending to avoid message size limits. See b/62115660.\n",
              "    let position = 0;\n",
              "    do {\n",
              "      const length = Math.min(fileData.byteLength - position, MAX_PAYLOAD_SIZE);\n",
              "      const chunk = new Uint8Array(fileData, position, length);\n",
              "      position += length;\n",
              "\n",
              "      const base64 = btoa(String.fromCharCode.apply(null, chunk));\n",
              "      yield {\n",
              "        response: {\n",
              "          action: 'append',\n",
              "          file: file.name,\n",
              "          data: base64,\n",
              "        },\n",
              "      };\n",
              "\n",
              "      let percentDone = fileData.byteLength === 0 ?\n",
              "          100 :\n",
              "          Math.round((position / fileData.byteLength) * 100);\n",
              "      percent.textContent = `${percentDone}% done`;\n",
              "\n",
              "    } while (position < fileData.byteLength);\n",
              "  }\n",
              "\n",
              "  // All done.\n",
              "  yield {\n",
              "    response: {\n",
              "      action: 'complete',\n",
              "    }\n",
              "  };\n",
              "}\n",
              "\n",
              "scope.google = scope.google || {};\n",
              "scope.google.colab = scope.google.colab || {};\n",
              "scope.google.colab._files = {\n",
              "  _uploadFiles,\n",
              "  _uploadFilesContinue,\n",
              "};\n",
              "})(self);\n",
              "</script> "
            ]
          },
          "metadata": {}
        }
      ]
    },
    {
      "cell_type": "code",
      "source": [],
      "metadata": {
        "id": "lk8hx1H1RHXt"
      },
      "execution_count": null,
      "outputs": []
    }
  ]
}