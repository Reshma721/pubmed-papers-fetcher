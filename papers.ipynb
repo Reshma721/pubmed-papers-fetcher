{
  "nbformat": 4,
  "nbformat_minor": 0,
  "metadata": {
    "colab": {
      "provenance": [],
      "authorship_tag": "ABX9TyNS4ukdBxfVza/KtNr6Z+KK",
      "include_colab_link": true
    },
    "kernelspec": {
      "name": "python3",
      "display_name": "Python 3"
    },
    "language_info": {
      "name": "python"
    }
  },
  "cells": [
    {
      "cell_type": "markdown",
      "metadata": {
        "id": "view-in-github",
        "colab_type": "text"
      },
      "source": [
        "<a href=\"https://colab.research.google.com/github/Reshma721/pubmed-papers-fetcher/blob/main/papers.ipynb\" target=\"_parent\"><img src=\"https://colab.research.google.com/assets/colab-badge.svg\" alt=\"Open In Colab\"/></a>"
      ]
    },
    {
      "cell_type": "code",
      "execution_count": null,
      "metadata": {
        "colab": {
          "base_uri": "https://localhost:8080/"
        },
        "id": "qJA5GnmyHhXl",
        "outputId": "9f36c98e-d271-4020-f6de-9c97aad54a70"
      },
      "outputs": [
        {
          "output_type": "stream",
          "name": "stdout",
          "text": [
            "Requirement already satisfied: biopython in /usr/local/lib/python3.11/dist-packages (1.85)\n",
            "Requirement already satisfied: pandas in /usr/local/lib/python3.11/dist-packages (2.2.2)\n",
            "Requirement already satisfied: rich in /usr/local/lib/python3.11/dist-packages (13.9.4)\n",
            "Requirement already satisfied: numpy in /usr/local/lib/python3.11/dist-packages (from biopython) (2.0.2)\n",
            "Requirement already satisfied: python-dateutil>=2.8.2 in /usr/local/lib/python3.11/dist-packages (from pandas) (2.8.2)\n",
            "Requirement already satisfied: pytz>=2020.1 in /usr/local/lib/python3.11/dist-packages (from pandas) (2025.2)\n",
            "Requirement already satisfied: tzdata>=2022.7 in /usr/local/lib/python3.11/dist-packages (from pandas) (2025.2)\n",
            "Requirement already satisfied: markdown-it-py>=2.2.0 in /usr/local/lib/python3.11/dist-packages (from rich) (3.0.0)\n",
            "Requirement already satisfied: pygments<3.0.0,>=2.13.0 in /usr/local/lib/python3.11/dist-packages (from rich) (2.18.0)\n",
            "Requirement already satisfied: mdurl~=0.1 in /usr/local/lib/python3.11/dist-packages (from markdown-it-py>=2.2.0->rich) (0.1.2)\n",
            "Requirement already satisfied: six>=1.5 in /usr/local/lib/python3.11/dist-packages (from python-dateutil>=2.8.2->pandas) (1.17.0)\n"
          ]
        }
      ],
      "source": [
        "!pip install biopython pandas rich\n"
      ]
    },
    {
      "cell_type": "code",
      "source": [
        "from Bio import Entrez\n",
        "import pandas as pd\n",
        "import time\n",
        "from typing import List, Dict\n",
        "import logging\n"
      ],
      "metadata": {
        "id": "VEkGbeKJHmSf"
      },
      "execution_count": null,
      "outputs": []
    },
    {
      "cell_type": "code",
      "source": [
        "# Install dependencies\n",
        "!pip install biopython pandas rich\n",
        "\n",
        "# Import necessary libraries\n",
        "from Bio import Entrez\n",
        "import pandas as pd\n",
        "import time\n",
        "from typing import List, Dict\n",
        "import logging\n",
        "\n",
        "\n",
        "# Set your email for PubMed API access\n",
        "Entrez.email = \"reshmauppar329@gmail.com\"\n",
        "\n",
        "# ✅ Logging configuration\n",
        "def setup_logger(debug: bool = False):\n",
        "    \"\"\"Set up logging configuration.\"\"\"\n",
        "    logger = logging.getLogger(\"PubMed Logger\")\n",
        "    logger.setLevel(logging.DEBUG if debug else logging.INFO)\n",
        "\n",
        "    console_handler = logging.StreamHandler()\n",
        "    console_handler.setLevel(logging.DEBUG if debug else logging.INFO)\n",
        "\n",
        "    formatter = logging.Formatter('%(asctime)s - %(levelname)s - %(message)s')\n",
        "    console_handler.setFormatter(formatter)\n",
        "\n",
        "    logger.addHandler(console_handler)\n",
        "    return logger\n",
        "\n",
        "\n",
        "# ✅ Fetch papers safely\n",
        "def fetch_papers(query: str, logger: logging.Logger, max_results: int = 50) -> List[Dict]:\n",
        "    \"\"\"Fetch research papers from PubMed using the query.\"\"\"\n",
        "    logger.info(f\"Fetching papers for query: {query}\")\n",
        "\n",
        "    try:\n",
        "        handle = Entrez.esearch(db=\"pubmed\", term=query, retmax=max_results)\n",
        "        record = Entrez.read(handle)\n",
        "        ids = record.get(\"IdList\", [])\n",
        "\n",
        "        if not ids:\n",
        "            logger.warning(\"No papers found.\")\n",
        "            return []\n",
        "\n",
        "        papers = []\n",
        "\n",
        "        for pubmed_id in ids:\n",
        "            handle = Entrez.efetch(db=\"pubmed\", id=pubmed_id, retmode=\"xml\")\n",
        "            record = Entrez.read(handle)\n",
        "\n",
        "            for article in record.get(\"PubmedArticle\", []):\n",
        "                article_data = article.get(\"MedlineCitation\", {}).get(\"Article\", {})\n",
        "\n",
        "                # Safely access nested fields with .get() to avoid KeyError or IndexError\n",
        "                authors = article_data.get(\"AuthorList\", [])\n",
        "\n",
        "                companies = [\n",
        "                    a.get(\"AffiliationInfo\", [{}])[0].get(\"Affiliation\", \"None\")\n",
        "                    for a in authors\n",
        "                    if \"pharma\" in a.get(\"AffiliationInfo\", [{}])[0].get(\"Affiliation\", \"\").lower()\n",
        "                ]\n",
        "\n",
        "                papers.append({\n",
        "                    \"PubmedID\": pubmed_id,\n",
        "                    \"Title\": article_data.get(\"ArticleTitle\", \"N/A\"),\n",
        "                    \"PublicationDate\": article_data.get(\"ArticleDate\", [{}])[0].get(\"Year\", \"N/A\"),\n",
        "                    \"Authors\": [f\"{a.get('LastName', '')} {a.get('ForeName', '')}\" for a in authors],\n",
        "                    \"CompanyAffiliations\": \", \".join(companies) if companies else \"None\"\n",
        "                })\n",
        "\n",
        "            time.sleep(1)  # To avoid API rate limits\n",
        "\n",
        "        logger.info(f\"Fetched {len(papers)} papers.\")\n",
        "        return papers\n",
        "\n",
        "    except Exception as e:\n",
        "        logger.error(f\"API Error: {e}\")\n",
        "        return []\n",
        "\n",
        "\n",
        "# ✅ Filter non-academic papers\n",
        "def filter_non_academic_papers(papers: List[Dict], logger: logging.Logger) -> List[Dict]:\n",
        "    \"\"\"Filter papers with pharmaceutical/biotech affiliations.\"\"\"\n",
        "    filtered = [paper for paper in papers if paper[\"CompanyAffiliations\"] != \"None\"]\n",
        "    logger.info(f\"Filtered {len(filtered)} papers with company affiliations.\")\n",
        "    return filtered\n",
        "\n",
        "\n",
        "# ✅ Save results as CSV (creates an empty CSV if no papers are found)\n",
        "def save_as_csv(papers: List[Dict], filename: str, logger: logging.Logger):\n",
        "    \"\"\"Save papers to a CSV file.\"\"\"\n",
        "    if papers:\n",
        "        df = pd.DataFrame(papers)\n",
        "    else:\n",
        "        # Create an empty CSV with headers if no papers are found\n",
        "        df = pd.DataFrame(columns=[\"PubmedID\", \"Title\", \"PublicationDate\", \"Authors\", \"CompanyAffiliations\"])\n",
        "\n",
        "    df.to_csv(filename, index=False)\n",
        "    logger.info(f\"Results saved to {filename}\")\n",
        "\n",
        "\n",
        "# ✅ Main Execution\n",
        "def main():\n",
        "    query = input(\"Enter the PubMed query: \")\n",
        "    output_file = \"research_papers.csv\"\n",
        "\n",
        "    logger = setup_logger(debug=True)\n",
        "\n",
        "    logger.info(f\"Searching PubMed for: {query}\")\n",
        "\n",
        "    # Fetch and filter papers\n",
        "    papers = fetch_papers(query, logger)\n",
        "    filtered_papers = filter_non_academic_papers(papers, logger)\n",
        "\n",
        "    # Save to CSV (creates an empty file if no results are found)\n",
        "    save_as_csv(filtered_papers, output_file, logger)\n",
        "\n",
        "    print(f\"Results saved to: {output_file}\")\n",
        "\n",
        "\n",
        "# ✅ Run the program\n",
        "main()\n"
      ],
      "metadata": {
        "colab": {
          "base_uri": "https://localhost:8080/"
        },
        "id": "Mfvt5OluHsGQ",
        "outputId": "29435eab-9000-4930-86ce-a8e69cec0144"
      },
      "execution_count": null,
      "outputs": [
        {
          "name": "stdout",
          "output_type": "stream",
          "text": [
            "Requirement already satisfied: biopython in /usr/local/lib/python3.11/dist-packages (1.85)\n",
            "Requirement already satisfied: pandas in /usr/local/lib/python3.11/dist-packages (2.2.2)\n",
            "Requirement already satisfied: rich in /usr/local/lib/python3.11/dist-packages (13.9.4)\n",
            "Requirement already satisfied: numpy in /usr/local/lib/python3.11/dist-packages (from biopython) (2.0.2)\n",
            "Requirement already satisfied: python-dateutil>=2.8.2 in /usr/local/lib/python3.11/dist-packages (from pandas) (2.8.2)\n",
            "Requirement already satisfied: pytz>=2020.1 in /usr/local/lib/python3.11/dist-packages (from pandas) (2025.2)\n",
            "Requirement already satisfied: tzdata>=2022.7 in /usr/local/lib/python3.11/dist-packages (from pandas) (2025.2)\n",
            "Requirement already satisfied: markdown-it-py>=2.2.0 in /usr/local/lib/python3.11/dist-packages (from rich) (3.0.0)\n",
            "Requirement already satisfied: pygments<3.0.0,>=2.13.0 in /usr/local/lib/python3.11/dist-packages (from rich) (2.18.0)\n",
            "Requirement already satisfied: mdurl~=0.1 in /usr/local/lib/python3.11/dist-packages (from markdown-it-py>=2.2.0->rich) (0.1.2)\n",
            "Requirement already satisfied: six>=1.5 in /usr/local/lib/python3.11/dist-packages (from python-dateutil>=2.8.2->pandas) (1.17.0)\n",
            "Enter the PubMed query: cancer AND therapy\n"
          ]
        },
        {
          "output_type": "stream",
          "name": "stderr",
          "text": [
            "2025-03-31 17:02:28,320 - INFO - Searching PubMed for: cancer AND therapy\n",
            "2025-03-31 17:02:28,320 - INFO - Searching PubMed for: cancer AND therapy\n",
            "2025-03-31 17:02:28,320 - INFO - Searching PubMed for: cancer AND therapy\n",
            "2025-03-31 17:02:28,320 - INFO - Searching PubMed for: cancer AND therapy\n",
            "INFO:PubMed Logger:Searching PubMed for: cancer AND therapy\n",
            "2025-03-31 17:02:28,324 - INFO - Fetching papers for query: cancer AND therapy\n",
            "2025-03-31 17:02:28,324 - INFO - Fetching papers for query: cancer AND therapy\n",
            "2025-03-31 17:02:28,324 - INFO - Fetching papers for query: cancer AND therapy\n",
            "2025-03-31 17:02:28,324 - INFO - Fetching papers for query: cancer AND therapy\n",
            "INFO:PubMed Logger:Fetching papers for query: cancer AND therapy\n",
            "2025-03-31 17:03:12,006 - ERROR - API Error: list index out of range\n",
            "2025-03-31 17:03:12,006 - ERROR - API Error: list index out of range\n",
            "2025-03-31 17:03:12,006 - ERROR - API Error: list index out of range\n",
            "2025-03-31 17:03:12,006 - ERROR - API Error: list index out of range\n",
            "ERROR:PubMed Logger:API Error: list index out of range\n",
            "2025-03-31 17:03:12,011 - INFO - Filtered 0 papers with company affiliations.\n",
            "2025-03-31 17:03:12,011 - INFO - Filtered 0 papers with company affiliations.\n",
            "2025-03-31 17:03:12,011 - INFO - Filtered 0 papers with company affiliations.\n",
            "2025-03-31 17:03:12,011 - INFO - Filtered 0 papers with company affiliations.\n",
            "INFO:PubMed Logger:Filtered 0 papers with company affiliations.\n",
            "2025-03-31 17:03:12,032 - INFO - Results saved to research_papers.csv\n",
            "2025-03-31 17:03:12,032 - INFO - Results saved to research_papers.csv\n",
            "2025-03-31 17:03:12,032 - INFO - Results saved to research_papers.csv\n",
            "2025-03-31 17:03:12,032 - INFO - Results saved to research_papers.csv\n",
            "INFO:PubMed Logger:Results saved to research_papers.csv\n"
          ]
        },
        {
          "output_type": "stream",
          "name": "stdout",
          "text": [
            "Results saved to: research_papers.csv\n"
          ]
        }
      ]
    },
    {
      "cell_type": "code",
      "source": [
        "from google.colab import files\n",
        "files.download(\"research_papers.csv\")\n"
      ],
      "metadata": {
        "colab": {
          "base_uri": "https://localhost:8080/",
          "height": 17
        },
        "id": "UfvNMbXeHwd1",
        "outputId": "765cd793-9d10-43d8-a05b-5e4a163dd12f"
      },
      "execution_count": null,
      "outputs": [
        {
          "output_type": "display_data",
          "data": {
            "text/plain": [
              "<IPython.core.display.Javascript object>"
            ],
            "application/javascript": [
              "\n",
              "    async function download(id, filename, size) {\n",
              "      if (!google.colab.kernel.accessAllowed) {\n",
              "        return;\n",
              "      }\n",
              "      const div = document.createElement('div');\n",
              "      const label = document.createElement('label');\n",
              "      label.textContent = `Downloading \"${filename}\": `;\n",
              "      div.appendChild(label);\n",
              "      const progress = document.createElement('progress');\n",
              "      progress.max = size;\n",
              "      div.appendChild(progress);\n",
              "      document.body.appendChild(div);\n",
              "\n",
              "      const buffers = [];\n",
              "      let downloaded = 0;\n",
              "\n",
              "      const channel = await google.colab.kernel.comms.open(id);\n",
              "      // Send a message to notify the kernel that we're ready.\n",
              "      channel.send({})\n",
              "\n",
              "      for await (const message of channel.messages) {\n",
              "        // Send a message to notify the kernel that we're ready.\n",
              "        channel.send({})\n",
              "        if (message.buffers) {\n",
              "          for (const buffer of message.buffers) {\n",
              "            buffers.push(buffer);\n",
              "            downloaded += buffer.byteLength;\n",
              "            progress.value = downloaded;\n",
              "          }\n",
              "        }\n",
              "      }\n",
              "      const blob = new Blob(buffers, {type: 'application/binary'});\n",
              "      const a = document.createElement('a');\n",
              "      a.href = window.URL.createObjectURL(blob);\n",
              "      a.download = filename;\n",
              "      div.appendChild(a);\n",
              "      a.click();\n",
              "      div.remove();\n",
              "    }\n",
              "  "
            ]
          },
          "metadata": {}
        },
        {
          "output_type": "display_data",
          "data": {
            "text/plain": [
              "<IPython.core.display.Javascript object>"
            ],
            "application/javascript": [
              "download(\"download_8eddcf5f-7b2a-421a-9cbc-8715e728b329\", \"research_papers.csv\", 59)"
            ]
          },
          "metadata": {}
        }
      ]
    },
    {
      "cell_type": "code",
      "source": [],
      "metadata": {
        "id": "lk8hx1H1RHXt"
      },
      "execution_count": null,
      "outputs": []
    }
  ]
}